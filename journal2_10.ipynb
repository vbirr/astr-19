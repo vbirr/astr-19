{
 "cells": [
  {
   "cell_type": "code",
   "execution_count": null,
   "id": "a48d247d-741f-49f0-9c05-38a5efc6f42c",
   "metadata": {},
   "outputs": [],
   "source": [
    "import numpy as np\n",
    "import matplotlib.pyplot as plt"
   ]
  },
  {
   "cell_type": "code",
   "execution_count": null,
   "id": "f129045c-c09f-4a2c-9882-c72c8c7787fc",
   "metadata": {},
   "outputs": [],
   "source": [
    "#size of array\n",
    "n = 1000\n",
    "\n",
    "# value used in pareto distribution, i chose a rand number for this\n",
    "a = 3\n",
    "\n",
    "# random uniform distribution of numbers between [0,1]\n",
    "x = np.random.pareto(a, n)\n",
    "\n",
    "# plot a histogram with 100 (width = 5/100) bins\n",
    "width = 0.05\n",
    "bins = np.arange(0, 5, width)\n",
    "\n",
    "plt.hist(x,bins = bins, edgecolor = \"black\")\n",
    "\n",
    "# label axis\n",
    "plt.xlabel('x')\n",
    "plt.ylabel('N per bin')\n",
    "\n",
    "# save the figure as pdf\n",
    "plt.savefig('session_10.pdf')"
   ]
  }
 ],
 "metadata": {
  "kernelspec": {
   "display_name": "Python 3 (ipykernel)",
   "language": "python",
   "name": "python3"
  },
  "language_info": {
   "codemirror_mode": {
    "name": "ipython",
    "version": 3
   },
   "file_extension": ".py",
   "mimetype": "text/x-python",
   "name": "python",
   "nbconvert_exporter": "python",
   "pygments_lexer": "ipython3",
   "version": "3.10.11"
  }
 },
 "nbformat": 4,
 "nbformat_minor": 5
}
