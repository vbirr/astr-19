{
 "cells": [
  {
   "cell_type": "code",
   "execution_count": null,
   "id": "fcbe7434-5e0b-4a6c-9835-3253a02b1835",
   "metadata": {},
   "outputs": [],
   "source": [
    "import matplotlib.pyplot as plt\n",
    "import numpy as np"
   ]
  },
  {
   "cell_type": "code",
   "execution_count": null,
   "id": "b622dec0-3e84-4141-9078-f56821a1e441",
   "metadata": {},
   "outputs": [],
   "source": [
    "# array x rangins from [0,1] in 100 steps\n",
    "x = np.linspace(0, 1, 100)"
   ]
  },
  {
   "cell_type": "code",
   "execution_count": null,
   "id": "ae7b4cc9-f00c-4899-90be-5db89ddea858",
   "metadata": {},
   "outputs": [],
   "source": [
    "# function that defines a function that returns exp(x)\n",
    "y = np.exp(x)"
   ]
  },
  {
   "cell_type": "code",
   "execution_count": null,
   "id": "0c62eb6d-c8b7-4d14-80df-cc92b680e4f1",
   "metadata": {},
   "outputs": [],
   "source": [
    "plt.plot(x,y)\n",
    "\n",
    "# label axis\n",
    "plt.xlabel('Time [milliseconds]')\n",
    "plt.ylabel('Awesomeness')\n",
    "\n",
    "# save figure as pdf\n",
    "plt.savefig('sess_7.pdf')"
   ]
  }
 ],
 "metadata": {
  "kernelspec": {
   "display_name": "Python 3 (ipykernel)",
   "language": "python",
   "name": "python3"
  },
  "language_info": {
   "codemirror_mode": {
    "name": "ipython",
    "version": 3
   },
   "file_extension": ".py",
   "mimetype": "text/x-python",
   "name": "python",
   "nbconvert_exporter": "python",
   "pygments_lexer": "ipython3",
   "version": "3.10.11"
  }
 },
 "nbformat": 4,
 "nbformat_minor": 5
}
