{
 "cells": [
  {
   "cell_type": "code",
   "execution_count": null,
   "id": "985de355-c910-4f85-80c2-1fcbee773853",
   "metadata": {},
   "outputs": [],
   "source": [
    "import matplotlib.pyplot as plt\n",
    "import numpy as np"
   ]
  },
  {
   "cell_type": "code",
   "execution_count": null,
   "id": "3eae66b6-a16f-4098-918b-0c42a44d3e82",
   "metadata": {},
   "outputs": [],
   "source": [
    "n = 1000\n",
    "\n",
    "# random uniform distribution of numbers between [0,1]\n",
    "x = np.random.rand(n)\n",
    "\n",
    "# plot a histogram with 100 (width = 1/100) bins)\n",
    "width = 0.01\n",
    "histmin = np.floor(min(x))\n",
    "histmax = np.ceil(max(x)) + width \n",
    "bins = np.arange(histmin, histmax, width)\n",
    "\n",
    "plt.hist(x,bins = bins, edgecolor = \"black\")\n",
    "\n",
    "# label axis\n",
    "plt.xlabel('x')\n",
    "plt.ylabel('N per bin')\n",
    "\n",
    "# save the figure as pdf\n",
    "plt.savefig('session_9.pdf')\n"
   ]
  }
 ],
 "metadata": {
  "kernelspec": {
   "display_name": "Python 3 (ipykernel)",
   "language": "python",
   "name": "python3"
  },
  "language_info": {
   "codemirror_mode": {
    "name": "ipython",
    "version": 3
   },
   "file_extension": ".py",
   "mimetype": "text/x-python",
   "name": "python",
   "nbconvert_exporter": "python",
   "pygments_lexer": "ipython3",
   "version": "3.10.11"
  }
 },
 "nbformat": 4,
 "nbformat_minor": 5
}
